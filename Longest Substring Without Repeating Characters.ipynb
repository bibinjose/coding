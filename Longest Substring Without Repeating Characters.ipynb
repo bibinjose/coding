{
 "cells": [
  {
   "cell_type": "markdown",
   "metadata": {},
   "source": [
    "Leetcode practise question \n",
    "\n",
    "Given a string, find the length of the longest substring without repeating characters.\n",
    "\n",
    "Examples:\n",
    "\n",
    "Given \"abcabcbb\", the answer is \"abc\", which the length is 3.\n",
    "\n",
    "Given \"bbbbb\", the answer is \"b\", with the length of 1.\n",
    "\n",
    "Given \"pwwkew\", the answer is \"wke\", with the length of 3. Note that the answer must be a substring, \"pwke\" is a subsequence and not a substring."
   ]
  },
  {
   "cell_type": "code",
   "execution_count": 44,
   "metadata": {},
   "outputs": [],
   "source": [
    "class Solution:\n",
    "    def lengthOfLongestSubstring(self, s):\n",
    "        \"\"\"\n",
    "        :type s: str\n",
    "        :rtype: int\n",
    "        \"\"\"\n",
    "        largest=0\n",
    "        count=0\n",
    "        subs=[]\n",
    "        for char in s:\n",
    "            if char not in subs:\n",
    "                subs.append(char)\n",
    "                count+=1\n",
    "            else:\n",
    "                if(count>largest):\n",
    "                    largest=count\n",
    "                subs=[char]\n",
    "                count=1\n",
    "        if(count>largest):\n",
    "                    largest=count\n",
    "        \n",
    "        return largest"
   ]
  },
  {
   "cell_type": "code",
   "execution_count": 45,
   "metadata": {},
   "outputs": [
    {
     "name": "stdout",
     "output_type": "stream",
     "text": [
      "Enter the string\n",
      "dvdf\n",
      "2\n"
     ]
    }
   ],
   "source": [
    "inputstring=input(\"Enter the string\\n\")\n",
    "obj=Solution()\n",
    "print(obj.lengthOfLongestSubstring(inputstring))"
   ]
  },
  {
   "cell_type": "markdown",
   "metadata": {},
   "source": [
    "The expected solution is 3 .\n",
    "The program returned 2."
   ]
  },
  {
   "cell_type": "code",
   "execution_count": 48,
   "metadata": {
    "collapsed": true
   },
   "outputs": [],
   "source": [
    "class Solution:\n",
    "    def lengthOfLongestSubstring(self, s):\n",
    "        \"\"\"\n",
    "        :type s: str\n",
    "        :rtype: int\n",
    "        \"\"\"\n",
    "        largest=0\n",
    "        count=0\n",
    "        subs=[]\n",
    "        for char in s:\n",
    "            if char not in subs:\n",
    "                subs.append(char)\n",
    "                count+=1\n",
    "            else:\n",
    "                if(count>largest):\n",
    "                    largest=count\n",
    "                subs=[char]\n",
    "                count=1\n",
    "        if(count>largest):\n",
    "                    largest=count\n",
    "        \n",
    "        largest_rev=0\n",
    "        count=0\n",
    "        subs=[]\n",
    "        for char in s[::-1]:\n",
    "            if char not in subs:\n",
    "                subs.append(char)\n",
    "                count+=1\n",
    "            else:\n",
    "                if(count>largest_rev):\n",
    "                    largest_rev=count\n",
    "                subs=[char]\n",
    "                count=1\n",
    "        if(count>largest_rev):\n",
    "                    largest_rev=count\n",
    "            \n",
    "        return max(largest,largest_rev)"
   ]
  },
  {
   "cell_type": "code",
   "execution_count": 49,
   "metadata": {},
   "outputs": [
    {
     "name": "stdout",
     "output_type": "stream",
     "text": [
      "Enter the string\n",
      "dvdf\n",
      "3\n"
     ]
    }
   ],
   "source": [
    "inputstring=input(\"Enter the string\\n\")\n",
    "obj=Solution()\n",
    "print(obj.lengthOfLongestSubstring(inputstring))"
   ]
  },
  {
   "cell_type": "code",
   "execution_count": 50,
   "metadata": {},
   "outputs": [
    {
     "name": "stdout",
     "output_type": "stream",
     "text": [
      "Enter the string\n",
      "asjrgapa\n",
      "5\n"
     ]
    }
   ],
   "source": [
    "inputstring=input(\"Enter the string\\n\")\n",
    "print(obj.lengthOfLongestSubstring(inputstring))"
   ]
  },
  {
   "cell_type": "markdown",
   "metadata": {},
   "source": [
    "The expected output is 6 \n",
    "Program returned 5"
   ]
  },
  {
   "cell_type": "code",
   "execution_count": 65,
   "metadata": {
    "collapsed": true
   },
   "outputs": [],
   "source": [
    "class Solution:\n",
    "    def lengthOfLongestSubstring(self, s):\n",
    "        \"\"\"\n",
    "        :type s: str\n",
    "        :rtype: int\n",
    "        \"\"\"\n",
    "        subs=[]\n",
    "        largest=0\n",
    "        for char in s:\n",
    "            if char not in subs:\n",
    "                subs.append(char)\n",
    "            else:\n",
    "                if(subs[0]==char):\n",
    "                    del subs[0]\n",
    "                    subs.append(char)\n",
    "                else:\n",
    "                    if(len(subs)>largest):\n",
    "                        largest=len(subs)\n",
    "                    subs=[char]\n",
    "                \n",
    "        if(len(subs)>largest):\n",
    "                    largest=len(subs)\n",
    "        \n",
    "        return largest"
   ]
  },
  {
   "cell_type": "code",
   "execution_count": 66,
   "metadata": {},
   "outputs": [
    {
     "name": "stdout",
     "output_type": "stream",
     "text": [
      "Enter the string\n",
      "asjrgapa\n",
      "6\n"
     ]
    }
   ],
   "source": [
    "inputstring=input(\"Enter the string\\n\")\n",
    "obj=Solution()\n",
    "print(obj.lengthOfLongestSubstring(inputstring))"
   ]
  },
  {
   "cell_type": "code",
   "execution_count": 64,
   "metadata": {},
   "outputs": [
    {
     "name": "stdout",
     "output_type": "stream",
     "text": [
      "Enter the string\n",
      "dvdf\n",
      "3\n"
     ]
    }
   ],
   "source": [
    "inputstring=input(\"Enter the string\\n\")\n",
    "print(obj.lengthOfLongestSubstring(inputstring))"
   ]
  },
  {
   "cell_type": "code",
   "execution_count": 67,
   "metadata": {},
   "outputs": [
    {
     "name": "stdout",
     "output_type": "stream",
     "text": [
      "Enter the string\n",
      "tmmzuxt\n",
      "5\n"
     ]
    }
   ],
   "source": [
    "inputstring=input(\"Enter the string\\n\")\n",
    "print(obj.lengthOfLongestSubstring(inputstring))"
   ]
  },
  {
   "cell_type": "code",
   "execution_count": 68,
   "metadata": {},
   "outputs": [
    {
     "name": "stdout",
     "output_type": "stream",
     "text": [
      "Enter the string\n",
      "ohvhjdml\n",
      "5\n"
     ]
    }
   ],
   "source": [
    "inputstring=input(\"Enter the string\\n\")\n",
    "print(obj.lengthOfLongestSubstring(inputstring))"
   ]
  },
  {
   "cell_type": "markdown",
   "metadata": {},
   "source": [
    "Output obtained is 5:\n",
    "Correct output is 6"
   ]
  },
  {
   "cell_type": "code",
   "execution_count": 69,
   "metadata": {
    "collapsed": true
   },
   "outputs": [],
   "source": [
    "class Solution:\n",
    "    def lengthOfLongestSubstring(self, s):\n",
    "        \"\"\"\n",
    "        :type s: str\n",
    "        :rtype: int\n",
    "        \"\"\"\n",
    "        subs=[]\n",
    "        largest=0\n",
    "        for char in s:\n",
    "            if char not in subs:\n",
    "                subs.append(char)\n",
    "            else:\n",
    "                if(subs[0]==char):\n",
    "                    del subs[0]\n",
    "                    subs.append(char)\n",
    "                else:\n",
    "                    if(len(subs)>largest):\n",
    "                        largest=len(subs)\n",
    "                    subs=[char]\n",
    "                \n",
    "        if(len(subs)>largest):\n",
    "                    largest=len(subs)\n",
    "        subs_rev=[]\n",
    "        largest_rev=0\n",
    "        for char in s[::-1]:\n",
    "            if char not in subs_rev:\n",
    "                subs_rev.append(char)\n",
    "            else:\n",
    "                if(subs_rev[0]==char):\n",
    "                    del subs_rev[0]\n",
    "                    subs_rev.append(char)\n",
    "                else:\n",
    "                    if(len(subs_rev)>largest):\n",
    "                        largest_rev=len(subs_rev)\n",
    "                    subs_rev=[char]\n",
    "                \n",
    "        if(len(subs_rev)>largest_rev):\n",
    "                    largest_rev=len(subs_rev)\n",
    "        \n",
    "        return max(largest,largest_rev)"
   ]
  },
  {
   "cell_type": "code",
   "execution_count": 70,
   "metadata": {},
   "outputs": [
    {
     "name": "stdout",
     "output_type": "stream",
     "text": [
      "Enter the string\n",
      "ohvhjdml\n",
      "6\n"
     ]
    }
   ],
   "source": [
    "inputstring=input(\"Enter the string\\n\")\n",
    "obj=Solution()\n",
    "print(obj.lengthOfLongestSubstring(inputstring)) "
   ]
  },
  {
   "cell_type": "code",
   "execution_count": 71,
   "metadata": {},
   "outputs": [
    {
     "name": "stdout",
     "output_type": "stream",
     "text": [
      "Enter the string\n",
      "bpoiexpqhmebhhu\n",
      "7\n"
     ]
    }
   ],
   "source": [
    "inputstring=input(\"Enter the string\\n\")\n",
    "print(obj.lengthOfLongestSubstring(inputstring))"
   ]
  },
  {
   "cell_type": "markdown",
   "metadata": {},
   "source": [
    "The Answer is 8"
   ]
  },
  {
   "cell_type": "code",
   "execution_count": 80,
   "metadata": {
    "collapsed": true
   },
   "outputs": [],
   "source": [
    "class Solution:\n",
    "    def lengthOfLongestSubstring(self, s):\n",
    "        \"\"\"\n",
    "        :type s: str\n",
    "        :rtype: int\n",
    "        \"\"\"\n",
    "        subs=[]\n",
    "        largest=0\n",
    "        for char in s:\n",
    "            if char not in subs:\n",
    "                subs.append(char)\n",
    "            else:\n",
    "                if(len(subs)>largest):\n",
    "                        largest=len(subs)\n",
    "                del subs[0:subs.index(char)+1]\n",
    "                subs.append(char)\n",
    "                \n",
    "                \n",
    "        if(len(subs)>largest):\n",
    "                    largest=len(subs)\n",
    "        \n",
    "        return largest"
   ]
  },
  {
   "cell_type": "code",
   "execution_count": 81,
   "metadata": {},
   "outputs": [
    {
     "name": "stdout",
     "output_type": "stream",
     "text": [
      "Enter the string\n",
      "bpoiexpqhmebhhu\n",
      "8\n"
     ]
    }
   ],
   "source": [
    "inputstring=input(\"Enter the string\\n\")\n",
    "obj=Solution()\n",
    "print(obj.lengthOfLongestSubstring(inputstring))"
   ]
  },
  {
   "cell_type": "markdown",
   "metadata": {},
   "source": [
    "Submission Result: Accepted "
   ]
  },
  {
   "cell_type": "code",
   "execution_count": null,
   "metadata": {
    "collapsed": true
   },
   "outputs": [],
   "source": []
  }
 ],
 "metadata": {
  "kernelspec": {
   "display_name": "Python 3",
   "language": "python",
   "name": "python3"
  },
  "language_info": {
   "codemirror_mode": {
    "name": "ipython",
    "version": 3
   },
   "file_extension": ".py",
   "mimetype": "text/x-python",
   "name": "python",
   "nbconvert_exporter": "python",
   "pygments_lexer": "ipython3",
   "version": "3.6.1"
  }
 },
 "nbformat": 4,
 "nbformat_minor": 2
}
