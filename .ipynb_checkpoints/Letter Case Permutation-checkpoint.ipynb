{
 "cells": [
  {
   "cell_type": "code",
   "execution_count": 1,
   "metadata": {
    "collapsed": true
   },
   "outputs": [],
   "source": [
    "class Solution(object):\n",
    "    def letterCasePermutation(self, S):\n",
    "        q = [S]\n",
    "        for i in range(0, len(S)):\n",
    "            if S[i].isalpha():\n",
    "                q += [s[:i] + chr(ord(s[i]) ^ 32) + s[i+1:] for s in q]\n",
    "                print(q)\n",
    "        return q"
   ]
  },
  {
   "cell_type": "code",
   "execution_count": 2,
   "metadata": {},
   "outputs": [
    {
     "name": "stdout",
     "output_type": "stream",
     "text": [
      "['abc', 'Abc']\n",
      "['abc', 'Abc', 'aBc', 'ABc']\n",
      "['abc', 'Abc', 'aBc', 'ABc', 'abC', 'AbC', 'aBC', 'ABC']\n"
     ]
    },
    {
     "data": {
      "text/plain": [
       "['abc', 'Abc', 'aBc', 'ABc', 'abC', 'AbC', 'aBC', 'ABC']"
      ]
     },
     "execution_count": 2,
     "metadata": {},
     "output_type": "execute_result"
    }
   ],
   "source": [
    "x=Solution()\n",
    "x.letterCasePermutation(\"abc\")"
   ]
  },
  {
   "cell_type": "code",
   "execution_count": 3,
   "metadata": {},
   "outputs": [
    {
     "data": {
      "text/plain": [
       "'a'"
      ]
     },
     "execution_count": 3,
     "metadata": {},
     "output_type": "execute_result"
    }
   ],
   "source": [
    "chr(ord('A')^32)"
   ]
  },
  {
   "cell_type": "code",
   "execution_count": 4,
   "metadata": {},
   "outputs": [
    {
     "data": {
      "text/plain": [
       "97"
      ]
     },
     "execution_count": 4,
     "metadata": {},
     "output_type": "execute_result"
    }
   ],
   "source": [
    "65^32 #^ Binary XOR"
   ]
  },
  {
   "cell_type": "code",
   "execution_count": 5,
   "metadata": {
    "collapsed": true
   },
   "outputs": [],
   "source": [
    "st='abcd'"
   ]
  },
  {
   "cell_type": "code",
   "execution_count": 6,
   "metadata": {},
   "outputs": [
    {
     "data": {
      "text/plain": [
       "'a'"
      ]
     },
     "execution_count": 6,
     "metadata": {},
     "output_type": "execute_result"
    }
   ],
   "source": [
    "st[:1]"
   ]
  },
  {
   "cell_type": "code",
   "execution_count": 7,
   "metadata": {},
   "outputs": [
    {
     "data": {
      "text/plain": [
       "'bcd'"
      ]
     },
     "execution_count": 7,
     "metadata": {},
     "output_type": "execute_result"
    }
   ],
   "source": [
    "st[1:]"
   ]
  },
  {
   "cell_type": "code",
   "execution_count": 8,
   "metadata": {},
   "outputs": [
    {
     "name": "stdout",
     "output_type": "stream",
     "text": [
      "['a1b2c', 'A1b2c']\n",
      "['a1b2c', 'A1b2c', 'a1B2c', 'A1B2c']\n",
      "['a1b2c', 'A1b2c', 'a1B2c', 'A1B2c', 'a1b2C', 'A1b2C', 'a1B2C', 'A1B2C']\n"
     ]
    },
    {
     "data": {
      "text/plain": [
       "['a1b2c', 'A1b2c', 'a1B2c', 'A1B2c', 'a1b2C', 'A1b2C', 'a1B2C', 'A1B2C']"
      ]
     },
     "execution_count": 8,
     "metadata": {},
     "output_type": "execute_result"
    }
   ],
   "source": [
    "x.letterCasePermutation(\"a1b2c\")"
   ]
  },
  {
   "cell_type": "code",
   "execution_count": 9,
   "metadata": {},
   "outputs": [
    {
     "name": "stdout",
     "output_type": "stream",
     "text": [
      "['a', 'A']\n"
     ]
    },
    {
     "data": {
      "text/plain": [
       "['a', 'A']"
      ]
     },
     "execution_count": 9,
     "metadata": {},
     "output_type": "execute_result"
    }
   ],
   "source": [
    "x.letterCasePermutation(\"a\")"
   ]
  },
  {
   "cell_type": "code",
   "execution_count": 10,
   "metadata": {},
   "outputs": [
    {
     "name": "stdout",
     "output_type": "stream",
     "text": [
      "['a1', 'A1']\n"
     ]
    },
    {
     "data": {
      "text/plain": [
       "['a1', 'A1']"
      ]
     },
     "execution_count": 10,
     "metadata": {},
     "output_type": "execute_result"
    }
   ],
   "source": [
    "x.letterCasePermutation(\"a1\")"
   ]
  },
  {
   "cell_type": "code",
   "execution_count": 11,
   "metadata": {},
   "outputs": [
    {
     "name": "stdout",
     "output_type": "stream",
     "text": [
      "['a1', 'A1']\n"
     ]
    },
    {
     "data": {
      "text/plain": [
       "['a1', 'A1']"
      ]
     },
     "execution_count": 11,
     "metadata": {},
     "output_type": "execute_result"
    }
   ],
   "source": [
    "x.letterCasePermutation(\"a1\")"
   ]
  },
  {
   "cell_type": "code",
   "execution_count": 12,
   "metadata": {},
   "outputs": [
    {
     "name": "stdout",
     "output_type": "stream",
     "text": [
      "['a1bc34fdsaS', 'A1bc34fdsaS']\n",
      "['a1bc34fdsaS', 'A1bc34fdsaS', 'a1Bc34fdsaS', 'A1Bc34fdsaS']\n",
      "['a1bc34fdsaS', 'A1bc34fdsaS', 'a1Bc34fdsaS', 'A1Bc34fdsaS', 'a1bC34fdsaS', 'A1bC34fdsaS', 'a1BC34fdsaS', 'A1BC34fdsaS']\n",
      "['a1bc34fdsaS', 'A1bc34fdsaS', 'a1Bc34fdsaS', 'A1Bc34fdsaS', 'a1bC34fdsaS', 'A1bC34fdsaS', 'a1BC34fdsaS', 'A1BC34fdsaS', 'a1bc34FdsaS', 'A1bc34FdsaS', 'a1Bc34FdsaS', 'A1Bc34FdsaS', 'a1bC34FdsaS', 'A1bC34FdsaS', 'a1BC34FdsaS', 'A1BC34FdsaS']\n",
      "['a1bc34fdsaS', 'A1bc34fdsaS', 'a1Bc34fdsaS', 'A1Bc34fdsaS', 'a1bC34fdsaS', 'A1bC34fdsaS', 'a1BC34fdsaS', 'A1BC34fdsaS', 'a1bc34FdsaS', 'A1bc34FdsaS', 'a1Bc34FdsaS', 'A1Bc34FdsaS', 'a1bC34FdsaS', 'A1bC34FdsaS', 'a1BC34FdsaS', 'A1BC34FdsaS', 'a1bc34fDsaS', 'A1bc34fDsaS', 'a1Bc34fDsaS', 'A1Bc34fDsaS', 'a1bC34fDsaS', 'A1bC34fDsaS', 'a1BC34fDsaS', 'A1BC34fDsaS', 'a1bc34FDsaS', 'A1bc34FDsaS', 'a1Bc34FDsaS', 'A1Bc34FDsaS', 'a1bC34FDsaS', 'A1bC34FDsaS', 'a1BC34FDsaS', 'A1BC34FDsaS']\n",
      "['a1bc34fdsaS', 'A1bc34fdsaS', 'a1Bc34fdsaS', 'A1Bc34fdsaS', 'a1bC34fdsaS', 'A1bC34fdsaS', 'a1BC34fdsaS', 'A1BC34fdsaS', 'a1bc34FdsaS', 'A1bc34FdsaS', 'a1Bc34FdsaS', 'A1Bc34FdsaS', 'a1bC34FdsaS', 'A1bC34FdsaS', 'a1BC34FdsaS', 'A1BC34FdsaS', 'a1bc34fDsaS', 'A1bc34fDsaS', 'a1Bc34fDsaS', 'A1Bc34fDsaS', 'a1bC34fDsaS', 'A1bC34fDsaS', 'a1BC34fDsaS', 'A1BC34fDsaS', 'a1bc34FDsaS', 'A1bc34FDsaS', 'a1Bc34FDsaS', 'A1Bc34FDsaS', 'a1bC34FDsaS', 'A1bC34FDsaS', 'a1BC34FDsaS', 'A1BC34FDsaS', 'a1bc34fdSaS', 'A1bc34fdSaS', 'a1Bc34fdSaS', 'A1Bc34fdSaS', 'a1bC34fdSaS', 'A1bC34fdSaS', 'a1BC34fdSaS', 'A1BC34fdSaS', 'a1bc34FdSaS', 'A1bc34FdSaS', 'a1Bc34FdSaS', 'A1Bc34FdSaS', 'a1bC34FdSaS', 'A1bC34FdSaS', 'a1BC34FdSaS', 'A1BC34FdSaS', 'a1bc34fDSaS', 'A1bc34fDSaS', 'a1Bc34fDSaS', 'A1Bc34fDSaS', 'a1bC34fDSaS', 'A1bC34fDSaS', 'a1BC34fDSaS', 'A1BC34fDSaS', 'a1bc34FDSaS', 'A1bc34FDSaS', 'a1Bc34FDSaS', 'A1Bc34FDSaS', 'a1bC34FDSaS', 'A1bC34FDSaS', 'a1BC34FDSaS', 'A1BC34FDSaS']\n",
      "['a1bc34fdsaS', 'A1bc34fdsaS', 'a1Bc34fdsaS', 'A1Bc34fdsaS', 'a1bC34fdsaS', 'A1bC34fdsaS', 'a1BC34fdsaS', 'A1BC34fdsaS', 'a1bc34FdsaS', 'A1bc34FdsaS', 'a1Bc34FdsaS', 'A1Bc34FdsaS', 'a1bC34FdsaS', 'A1bC34FdsaS', 'a1BC34FdsaS', 'A1BC34FdsaS', 'a1bc34fDsaS', 'A1bc34fDsaS', 'a1Bc34fDsaS', 'A1Bc34fDsaS', 'a1bC34fDsaS', 'A1bC34fDsaS', 'a1BC34fDsaS', 'A1BC34fDsaS', 'a1bc34FDsaS', 'A1bc34FDsaS', 'a1Bc34FDsaS', 'A1Bc34FDsaS', 'a1bC34FDsaS', 'A1bC34FDsaS', 'a1BC34FDsaS', 'A1BC34FDsaS', 'a1bc34fdSaS', 'A1bc34fdSaS', 'a1Bc34fdSaS', 'A1Bc34fdSaS', 'a1bC34fdSaS', 'A1bC34fdSaS', 'a1BC34fdSaS', 'A1BC34fdSaS', 'a1bc34FdSaS', 'A1bc34FdSaS', 'a1Bc34FdSaS', 'A1Bc34FdSaS', 'a1bC34FdSaS', 'A1bC34FdSaS', 'a1BC34FdSaS', 'A1BC34FdSaS', 'a1bc34fDSaS', 'A1bc34fDSaS', 'a1Bc34fDSaS', 'A1Bc34fDSaS', 'a1bC34fDSaS', 'A1bC34fDSaS', 'a1BC34fDSaS', 'A1BC34fDSaS', 'a1bc34FDSaS', 'A1bc34FDSaS', 'a1Bc34FDSaS', 'A1Bc34FDSaS', 'a1bC34FDSaS', 'A1bC34FDSaS', 'a1BC34FDSaS', 'A1BC34FDSaS', 'a1bc34fdsAS', 'A1bc34fdsAS', 'a1Bc34fdsAS', 'A1Bc34fdsAS', 'a1bC34fdsAS', 'A1bC34fdsAS', 'a1BC34fdsAS', 'A1BC34fdsAS', 'a1bc34FdsAS', 'A1bc34FdsAS', 'a1Bc34FdsAS', 'A1Bc34FdsAS', 'a1bC34FdsAS', 'A1bC34FdsAS', 'a1BC34FdsAS', 'A1BC34FdsAS', 'a1bc34fDsAS', 'A1bc34fDsAS', 'a1Bc34fDsAS', 'A1Bc34fDsAS', 'a1bC34fDsAS', 'A1bC34fDsAS', 'a1BC34fDsAS', 'A1BC34fDsAS', 'a1bc34FDsAS', 'A1bc34FDsAS', 'a1Bc34FDsAS', 'A1Bc34FDsAS', 'a1bC34FDsAS', 'A1bC34FDsAS', 'a1BC34FDsAS', 'A1BC34FDsAS', 'a1bc34fdSAS', 'A1bc34fdSAS', 'a1Bc34fdSAS', 'A1Bc34fdSAS', 'a1bC34fdSAS', 'A1bC34fdSAS', 'a1BC34fdSAS', 'A1BC34fdSAS', 'a1bc34FdSAS', 'A1bc34FdSAS', 'a1Bc34FdSAS', 'A1Bc34FdSAS', 'a1bC34FdSAS', 'A1bC34FdSAS', 'a1BC34FdSAS', 'A1BC34FdSAS', 'a1bc34fDSAS', 'A1bc34fDSAS', 'a1Bc34fDSAS', 'A1Bc34fDSAS', 'a1bC34fDSAS', 'A1bC34fDSAS', 'a1BC34fDSAS', 'A1BC34fDSAS', 'a1bc34FDSAS', 'A1bc34FDSAS', 'a1Bc34FDSAS', 'A1Bc34FDSAS', 'a1bC34FDSAS', 'A1bC34FDSAS', 'a1BC34FDSAS', 'A1BC34FDSAS']\n",
      "['a1bc34fdsaS', 'A1bc34fdsaS', 'a1Bc34fdsaS', 'A1Bc34fdsaS', 'a1bC34fdsaS', 'A1bC34fdsaS', 'a1BC34fdsaS', 'A1BC34fdsaS', 'a1bc34FdsaS', 'A1bc34FdsaS', 'a1Bc34FdsaS', 'A1Bc34FdsaS', 'a1bC34FdsaS', 'A1bC34FdsaS', 'a1BC34FdsaS', 'A1BC34FdsaS', 'a1bc34fDsaS', 'A1bc34fDsaS', 'a1Bc34fDsaS', 'A1Bc34fDsaS', 'a1bC34fDsaS', 'A1bC34fDsaS', 'a1BC34fDsaS', 'A1BC34fDsaS', 'a1bc34FDsaS', 'A1bc34FDsaS', 'a1Bc34FDsaS', 'A1Bc34FDsaS', 'a1bC34FDsaS', 'A1bC34FDsaS', 'a1BC34FDsaS', 'A1BC34FDsaS', 'a1bc34fdSaS', 'A1bc34fdSaS', 'a1Bc34fdSaS', 'A1Bc34fdSaS', 'a1bC34fdSaS', 'A1bC34fdSaS', 'a1BC34fdSaS', 'A1BC34fdSaS', 'a1bc34FdSaS', 'A1bc34FdSaS', 'a1Bc34FdSaS', 'A1Bc34FdSaS', 'a1bC34FdSaS', 'A1bC34FdSaS', 'a1BC34FdSaS', 'A1BC34FdSaS', 'a1bc34fDSaS', 'A1bc34fDSaS', 'a1Bc34fDSaS', 'A1Bc34fDSaS', 'a1bC34fDSaS', 'A1bC34fDSaS', 'a1BC34fDSaS', 'A1BC34fDSaS', 'a1bc34FDSaS', 'A1bc34FDSaS', 'a1Bc34FDSaS', 'A1Bc34FDSaS', 'a1bC34FDSaS', 'A1bC34FDSaS', 'a1BC34FDSaS', 'A1BC34FDSaS', 'a1bc34fdsAS', 'A1bc34fdsAS', 'a1Bc34fdsAS', 'A1Bc34fdsAS', 'a1bC34fdsAS', 'A1bC34fdsAS', 'a1BC34fdsAS', 'A1BC34fdsAS', 'a1bc34FdsAS', 'A1bc34FdsAS', 'a1Bc34FdsAS', 'A1Bc34FdsAS', 'a1bC34FdsAS', 'A1bC34FdsAS', 'a1BC34FdsAS', 'A1BC34FdsAS', 'a1bc34fDsAS', 'A1bc34fDsAS', 'a1Bc34fDsAS', 'A1Bc34fDsAS', 'a1bC34fDsAS', 'A1bC34fDsAS', 'a1BC34fDsAS', 'A1BC34fDsAS', 'a1bc34FDsAS', 'A1bc34FDsAS', 'a1Bc34FDsAS', 'A1Bc34FDsAS', 'a1bC34FDsAS', 'A1bC34FDsAS', 'a1BC34FDsAS', 'A1BC34FDsAS', 'a1bc34fdSAS', 'A1bc34fdSAS', 'a1Bc34fdSAS', 'A1Bc34fdSAS', 'a1bC34fdSAS', 'A1bC34fdSAS', 'a1BC34fdSAS', 'A1BC34fdSAS', 'a1bc34FdSAS', 'A1bc34FdSAS', 'a1Bc34FdSAS', 'A1Bc34FdSAS', 'a1bC34FdSAS', 'A1bC34FdSAS', 'a1BC34FdSAS', 'A1BC34FdSAS', 'a1bc34fDSAS', 'A1bc34fDSAS', 'a1Bc34fDSAS', 'A1Bc34fDSAS', 'a1bC34fDSAS', 'A1bC34fDSAS', 'a1BC34fDSAS', 'A1BC34fDSAS', 'a1bc34FDSAS', 'A1bc34FDSAS', 'a1Bc34FDSAS', 'A1Bc34FDSAS', 'a1bC34FDSAS', 'A1bC34FDSAS', 'a1BC34FDSAS', 'A1BC34FDSAS', 'a1bc34fdsas', 'A1bc34fdsas', 'a1Bc34fdsas', 'A1Bc34fdsas', 'a1bC34fdsas', 'A1bC34fdsas', 'a1BC34fdsas', 'A1BC34fdsas', 'a1bc34Fdsas', 'A1bc34Fdsas', 'a1Bc34Fdsas', 'A1Bc34Fdsas', 'a1bC34Fdsas', 'A1bC34Fdsas', 'a1BC34Fdsas', 'A1BC34Fdsas', 'a1bc34fDsas', 'A1bc34fDsas', 'a1Bc34fDsas', 'A1Bc34fDsas', 'a1bC34fDsas', 'A1bC34fDsas', 'a1BC34fDsas', 'A1BC34fDsas', 'a1bc34FDsas', 'A1bc34FDsas', 'a1Bc34FDsas', 'A1Bc34FDsas', 'a1bC34FDsas', 'A1bC34FDsas', 'a1BC34FDsas', 'A1BC34FDsas', 'a1bc34fdSas', 'A1bc34fdSas', 'a1Bc34fdSas', 'A1Bc34fdSas', 'a1bC34fdSas', 'A1bC34fdSas', 'a1BC34fdSas', 'A1BC34fdSas', 'a1bc34FdSas', 'A1bc34FdSas', 'a1Bc34FdSas', 'A1Bc34FdSas', 'a1bC34FdSas', 'A1bC34FdSas', 'a1BC34FdSas', 'A1BC34FdSas', 'a1bc34fDSas', 'A1bc34fDSas', 'a1Bc34fDSas', 'A1Bc34fDSas', 'a1bC34fDSas', 'A1bC34fDSas', 'a1BC34fDSas', 'A1BC34fDSas', 'a1bc34FDSas', 'A1bc34FDSas', 'a1Bc34FDSas', 'A1Bc34FDSas', 'a1bC34FDSas', 'A1bC34FDSas', 'a1BC34FDSas', 'A1BC34FDSas', 'a1bc34fdsAs', 'A1bc34fdsAs', 'a1Bc34fdsAs', 'A1Bc34fdsAs', 'a1bC34fdsAs', 'A1bC34fdsAs', 'a1BC34fdsAs', 'A1BC34fdsAs', 'a1bc34FdsAs', 'A1bc34FdsAs', 'a1Bc34FdsAs', 'A1Bc34FdsAs', 'a1bC34FdsAs', 'A1bC34FdsAs', 'a1BC34FdsAs', 'A1BC34FdsAs', 'a1bc34fDsAs', 'A1bc34fDsAs', 'a1Bc34fDsAs', 'A1Bc34fDsAs', 'a1bC34fDsAs', 'A1bC34fDsAs', 'a1BC34fDsAs', 'A1BC34fDsAs', 'a1bc34FDsAs', 'A1bc34FDsAs', 'a1Bc34FDsAs', 'A1Bc34FDsAs', 'a1bC34FDsAs', 'A1bC34FDsAs', 'a1BC34FDsAs', 'A1BC34FDsAs', 'a1bc34fdSAs', 'A1bc34fdSAs', 'a1Bc34fdSAs', 'A1Bc34fdSAs', 'a1bC34fdSAs', 'A1bC34fdSAs', 'a1BC34fdSAs', 'A1BC34fdSAs', 'a1bc34FdSAs', 'A1bc34FdSAs', 'a1Bc34FdSAs', 'A1Bc34FdSAs', 'a1bC34FdSAs', 'A1bC34FdSAs', 'a1BC34FdSAs', 'A1BC34FdSAs', 'a1bc34fDSAs', 'A1bc34fDSAs', 'a1Bc34fDSAs', 'A1Bc34fDSAs', 'a1bC34fDSAs', 'A1bC34fDSAs', 'a1BC34fDSAs', 'A1BC34fDSAs', 'a1bc34FDSAs', 'A1bc34FDSAs', 'a1Bc34FDSAs', 'A1Bc34FDSAs', 'a1bC34FDSAs', 'A1bC34FDSAs', 'a1BC34FDSAs', 'A1BC34FDSAs']\n"
     ]
    },
    {
     "data": {
      "text/plain": [
       "['a1bc34fdsaS',\n",
       " 'A1bc34fdsaS',\n",
       " 'a1Bc34fdsaS',\n",
       " 'A1Bc34fdsaS',\n",
       " 'a1bC34fdsaS',\n",
       " 'A1bC34fdsaS',\n",
       " 'a1BC34fdsaS',\n",
       " 'A1BC34fdsaS',\n",
       " 'a1bc34FdsaS',\n",
       " 'A1bc34FdsaS',\n",
       " 'a1Bc34FdsaS',\n",
       " 'A1Bc34FdsaS',\n",
       " 'a1bC34FdsaS',\n",
       " 'A1bC34FdsaS',\n",
       " 'a1BC34FdsaS',\n",
       " 'A1BC34FdsaS',\n",
       " 'a1bc34fDsaS',\n",
       " 'A1bc34fDsaS',\n",
       " 'a1Bc34fDsaS',\n",
       " 'A1Bc34fDsaS',\n",
       " 'a1bC34fDsaS',\n",
       " 'A1bC34fDsaS',\n",
       " 'a1BC34fDsaS',\n",
       " 'A1BC34fDsaS',\n",
       " 'a1bc34FDsaS',\n",
       " 'A1bc34FDsaS',\n",
       " 'a1Bc34FDsaS',\n",
       " 'A1Bc34FDsaS',\n",
       " 'a1bC34FDsaS',\n",
       " 'A1bC34FDsaS',\n",
       " 'a1BC34FDsaS',\n",
       " 'A1BC34FDsaS',\n",
       " 'a1bc34fdSaS',\n",
       " 'A1bc34fdSaS',\n",
       " 'a1Bc34fdSaS',\n",
       " 'A1Bc34fdSaS',\n",
       " 'a1bC34fdSaS',\n",
       " 'A1bC34fdSaS',\n",
       " 'a1BC34fdSaS',\n",
       " 'A1BC34fdSaS',\n",
       " 'a1bc34FdSaS',\n",
       " 'A1bc34FdSaS',\n",
       " 'a1Bc34FdSaS',\n",
       " 'A1Bc34FdSaS',\n",
       " 'a1bC34FdSaS',\n",
       " 'A1bC34FdSaS',\n",
       " 'a1BC34FdSaS',\n",
       " 'A1BC34FdSaS',\n",
       " 'a1bc34fDSaS',\n",
       " 'A1bc34fDSaS',\n",
       " 'a1Bc34fDSaS',\n",
       " 'A1Bc34fDSaS',\n",
       " 'a1bC34fDSaS',\n",
       " 'A1bC34fDSaS',\n",
       " 'a1BC34fDSaS',\n",
       " 'A1BC34fDSaS',\n",
       " 'a1bc34FDSaS',\n",
       " 'A1bc34FDSaS',\n",
       " 'a1Bc34FDSaS',\n",
       " 'A1Bc34FDSaS',\n",
       " 'a1bC34FDSaS',\n",
       " 'A1bC34FDSaS',\n",
       " 'a1BC34FDSaS',\n",
       " 'A1BC34FDSaS',\n",
       " 'a1bc34fdsAS',\n",
       " 'A1bc34fdsAS',\n",
       " 'a1Bc34fdsAS',\n",
       " 'A1Bc34fdsAS',\n",
       " 'a1bC34fdsAS',\n",
       " 'A1bC34fdsAS',\n",
       " 'a1BC34fdsAS',\n",
       " 'A1BC34fdsAS',\n",
       " 'a1bc34FdsAS',\n",
       " 'A1bc34FdsAS',\n",
       " 'a1Bc34FdsAS',\n",
       " 'A1Bc34FdsAS',\n",
       " 'a1bC34FdsAS',\n",
       " 'A1bC34FdsAS',\n",
       " 'a1BC34FdsAS',\n",
       " 'A1BC34FdsAS',\n",
       " 'a1bc34fDsAS',\n",
       " 'A1bc34fDsAS',\n",
       " 'a1Bc34fDsAS',\n",
       " 'A1Bc34fDsAS',\n",
       " 'a1bC34fDsAS',\n",
       " 'A1bC34fDsAS',\n",
       " 'a1BC34fDsAS',\n",
       " 'A1BC34fDsAS',\n",
       " 'a1bc34FDsAS',\n",
       " 'A1bc34FDsAS',\n",
       " 'a1Bc34FDsAS',\n",
       " 'A1Bc34FDsAS',\n",
       " 'a1bC34FDsAS',\n",
       " 'A1bC34FDsAS',\n",
       " 'a1BC34FDsAS',\n",
       " 'A1BC34FDsAS',\n",
       " 'a1bc34fdSAS',\n",
       " 'A1bc34fdSAS',\n",
       " 'a1Bc34fdSAS',\n",
       " 'A1Bc34fdSAS',\n",
       " 'a1bC34fdSAS',\n",
       " 'A1bC34fdSAS',\n",
       " 'a1BC34fdSAS',\n",
       " 'A1BC34fdSAS',\n",
       " 'a1bc34FdSAS',\n",
       " 'A1bc34FdSAS',\n",
       " 'a1Bc34FdSAS',\n",
       " 'A1Bc34FdSAS',\n",
       " 'a1bC34FdSAS',\n",
       " 'A1bC34FdSAS',\n",
       " 'a1BC34FdSAS',\n",
       " 'A1BC34FdSAS',\n",
       " 'a1bc34fDSAS',\n",
       " 'A1bc34fDSAS',\n",
       " 'a1Bc34fDSAS',\n",
       " 'A1Bc34fDSAS',\n",
       " 'a1bC34fDSAS',\n",
       " 'A1bC34fDSAS',\n",
       " 'a1BC34fDSAS',\n",
       " 'A1BC34fDSAS',\n",
       " 'a1bc34FDSAS',\n",
       " 'A1bc34FDSAS',\n",
       " 'a1Bc34FDSAS',\n",
       " 'A1Bc34FDSAS',\n",
       " 'a1bC34FDSAS',\n",
       " 'A1bC34FDSAS',\n",
       " 'a1BC34FDSAS',\n",
       " 'A1BC34FDSAS',\n",
       " 'a1bc34fdsas',\n",
       " 'A1bc34fdsas',\n",
       " 'a1Bc34fdsas',\n",
       " 'A1Bc34fdsas',\n",
       " 'a1bC34fdsas',\n",
       " 'A1bC34fdsas',\n",
       " 'a1BC34fdsas',\n",
       " 'A1BC34fdsas',\n",
       " 'a1bc34Fdsas',\n",
       " 'A1bc34Fdsas',\n",
       " 'a1Bc34Fdsas',\n",
       " 'A1Bc34Fdsas',\n",
       " 'a1bC34Fdsas',\n",
       " 'A1bC34Fdsas',\n",
       " 'a1BC34Fdsas',\n",
       " 'A1BC34Fdsas',\n",
       " 'a1bc34fDsas',\n",
       " 'A1bc34fDsas',\n",
       " 'a1Bc34fDsas',\n",
       " 'A1Bc34fDsas',\n",
       " 'a1bC34fDsas',\n",
       " 'A1bC34fDsas',\n",
       " 'a1BC34fDsas',\n",
       " 'A1BC34fDsas',\n",
       " 'a1bc34FDsas',\n",
       " 'A1bc34FDsas',\n",
       " 'a1Bc34FDsas',\n",
       " 'A1Bc34FDsas',\n",
       " 'a1bC34FDsas',\n",
       " 'A1bC34FDsas',\n",
       " 'a1BC34FDsas',\n",
       " 'A1BC34FDsas',\n",
       " 'a1bc34fdSas',\n",
       " 'A1bc34fdSas',\n",
       " 'a1Bc34fdSas',\n",
       " 'A1Bc34fdSas',\n",
       " 'a1bC34fdSas',\n",
       " 'A1bC34fdSas',\n",
       " 'a1BC34fdSas',\n",
       " 'A1BC34fdSas',\n",
       " 'a1bc34FdSas',\n",
       " 'A1bc34FdSas',\n",
       " 'a1Bc34FdSas',\n",
       " 'A1Bc34FdSas',\n",
       " 'a1bC34FdSas',\n",
       " 'A1bC34FdSas',\n",
       " 'a1BC34FdSas',\n",
       " 'A1BC34FdSas',\n",
       " 'a1bc34fDSas',\n",
       " 'A1bc34fDSas',\n",
       " 'a1Bc34fDSas',\n",
       " 'A1Bc34fDSas',\n",
       " 'a1bC34fDSas',\n",
       " 'A1bC34fDSas',\n",
       " 'a1BC34fDSas',\n",
       " 'A1BC34fDSas',\n",
       " 'a1bc34FDSas',\n",
       " 'A1bc34FDSas',\n",
       " 'a1Bc34FDSas',\n",
       " 'A1Bc34FDSas',\n",
       " 'a1bC34FDSas',\n",
       " 'A1bC34FDSas',\n",
       " 'a1BC34FDSas',\n",
       " 'A1BC34FDSas',\n",
       " 'a1bc34fdsAs',\n",
       " 'A1bc34fdsAs',\n",
       " 'a1Bc34fdsAs',\n",
       " 'A1Bc34fdsAs',\n",
       " 'a1bC34fdsAs',\n",
       " 'A1bC34fdsAs',\n",
       " 'a1BC34fdsAs',\n",
       " 'A1BC34fdsAs',\n",
       " 'a1bc34FdsAs',\n",
       " 'A1bc34FdsAs',\n",
       " 'a1Bc34FdsAs',\n",
       " 'A1Bc34FdsAs',\n",
       " 'a1bC34FdsAs',\n",
       " 'A1bC34FdsAs',\n",
       " 'a1BC34FdsAs',\n",
       " 'A1BC34FdsAs',\n",
       " 'a1bc34fDsAs',\n",
       " 'A1bc34fDsAs',\n",
       " 'a1Bc34fDsAs',\n",
       " 'A1Bc34fDsAs',\n",
       " 'a1bC34fDsAs',\n",
       " 'A1bC34fDsAs',\n",
       " 'a1BC34fDsAs',\n",
       " 'A1BC34fDsAs',\n",
       " 'a1bc34FDsAs',\n",
       " 'A1bc34FDsAs',\n",
       " 'a1Bc34FDsAs',\n",
       " 'A1Bc34FDsAs',\n",
       " 'a1bC34FDsAs',\n",
       " 'A1bC34FDsAs',\n",
       " 'a1BC34FDsAs',\n",
       " 'A1BC34FDsAs',\n",
       " 'a1bc34fdSAs',\n",
       " 'A1bc34fdSAs',\n",
       " 'a1Bc34fdSAs',\n",
       " 'A1Bc34fdSAs',\n",
       " 'a1bC34fdSAs',\n",
       " 'A1bC34fdSAs',\n",
       " 'a1BC34fdSAs',\n",
       " 'A1BC34fdSAs',\n",
       " 'a1bc34FdSAs',\n",
       " 'A1bc34FdSAs',\n",
       " 'a1Bc34FdSAs',\n",
       " 'A1Bc34FdSAs',\n",
       " 'a1bC34FdSAs',\n",
       " 'A1bC34FdSAs',\n",
       " 'a1BC34FdSAs',\n",
       " 'A1BC34FdSAs',\n",
       " 'a1bc34fDSAs',\n",
       " 'A1bc34fDSAs',\n",
       " 'a1Bc34fDSAs',\n",
       " 'A1Bc34fDSAs',\n",
       " 'a1bC34fDSAs',\n",
       " 'A1bC34fDSAs',\n",
       " 'a1BC34fDSAs',\n",
       " 'A1BC34fDSAs',\n",
       " 'a1bc34FDSAs',\n",
       " 'A1bc34FDSAs',\n",
       " 'a1Bc34FDSAs',\n",
       " 'A1Bc34FDSAs',\n",
       " 'a1bC34FDSAs',\n",
       " 'A1bC34FDSAs',\n",
       " 'a1BC34FDSAs',\n",
       " 'A1BC34FDSAs']"
      ]
     },
     "execution_count": 12,
     "metadata": {},
     "output_type": "execute_result"
    }
   ],
   "source": [
    "x.letterCasePermutation(\"a1bc34fdsaS\")"
   ]
  },
  {
   "cell_type": "code",
   "execution_count": 13,
   "metadata": {},
   "outputs": [
    {
     "data": {
      "text/plain": [
       "['1']"
      ]
     },
     "execution_count": 13,
     "metadata": {},
     "output_type": "execute_result"
    }
   ],
   "source": [
    "x.letterCasePermutation(\"1\")"
   ]
  },
  {
   "cell_type": "code",
   "execution_count": null,
   "metadata": {
    "collapsed": true
   },
   "outputs": [],
   "source": []
  }
 ],
 "metadata": {
  "kernelspec": {
   "display_name": "Python 3",
   "language": "python",
   "name": "python3"
  },
  "language_info": {
   "codemirror_mode": {
    "name": "ipython",
    "version": 3
   },
   "file_extension": ".py",
   "mimetype": "text/x-python",
   "name": "python",
   "nbconvert_exporter": "python",
   "pygments_lexer": "ipython3",
   "version": "3.6.1"
  }
 },
 "nbformat": 4,
 "nbformat_minor": 2
}
