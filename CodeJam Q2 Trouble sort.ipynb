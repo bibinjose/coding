{
 "cells": [
  {
   "cell_type": "markdown",
   "metadata": {},
   "source": [
    "Trouble Sort\n",
    "Problem\n",
    "Deep in Code Jam's secret algorithm labs, we devote countless hours to wrestling with one of the most complex problems of our time: efficiently sorting a list of integers into non-decreasing order. We have taken a careful look at the classic bubble sort algorithm, and we are pleased to announce a new variant.\n",
    "\n",
    "The basic operation of the standard bubble sort algorithm is to examine a pair of adjacent numbers, and reverse that pair if the left number is larger than the right number. But our algorithm examines a group of three adjacent numbers, and if the leftmost number is larger than the rightmost number, it reverses that entire group. Because our algorithm is a \"triplet bubble sort\", we have named it Trouble Sort for short.\n",
    "\n",
    "  TroubleSort(L): // L is a 0-indexed list of integers\n",
    "    let done := false\n",
    "    while not done:\n",
    "      done = true\n",
    "      for i := 0; i < len(L)-2; i++:\n",
    "        if L[i] > L[i+2]:\n",
    "          done = false\n",
    "          reverse the sublist from L[i] to L[i+2], inclusive\n",
    "For example, for L = 5 6 6 4 3, Trouble Sort would proceed as follows:\n",
    "\n",
    "First pass:\n",
    "inspect 5 6 6, do nothing: 5 6 6 4 3\n",
    "inspect 6 6 4, see that 6 > 4, reverse the triplet: 5 4 6 6 3\n",
    "inspect 6 6 3, see that 6 > 3, reverse the triplet: 5 4 3 6 6\n",
    "Second pass:\n",
    "inspect 5 4 3, see that 5 > 3, reverse the triplet: 3 4 5 6 6\n",
    "inspect 4 5 6, do nothing: 3 4 5 6 6\n",
    "inspect 5 6 6, do nothing: 3 4 5 6 6\n",
    "Then the third pass inspects the three triplets and does nothing, so the algorithm terminates.\n",
    "We were looking forward to presenting Trouble Sort at the Special Interest Group in Sorting conference in Hawaii, but one of our interns has just pointed out a problem: it is possible that Trouble Sort does not correctly sort the list! Consider the list 8 9 7, for example.\n",
    "\n",
    "We need your help with some further research. Given a list of N integers, determine whether Trouble Sort will successfully sort the list into non-decreasing order. If it will not, find the index (counting starting from 0) of the first sorting error after the algorithm has finished: that is, the first value that is larger than the value that comes directly after it when the algorithm is done.\n",
    "\n",
    "Input\n",
    "The first line of the input gives the number of test cases, T. T test cases follow. Each test case consists of two lines: one line with an integer N, the number of values in the list, and then another line with N integers Vi, the list of values.\n",
    "\n",
    "Output\n",
    "For each test case, output one line containing Case #x: y, where x is the test case number (starting from 1) and y is OK if Trouble Sort correctly sorts the list, or the index (counting starting from 0) of the first sorting error, as described above.\n",
    "\n",
    "Limits\n",
    "1 ≤ T ≤ 100.\n",
    "0 ≤ Vi ≤ 109, for all i.\n",
    "Memory limit: 1GB.\n",
    "\n",
    "Test set 1 (Visible)\n",
    "3 ≤ N ≤ 100.\n",
    "Time limit (for the entire test set): 10 seconds.\n",
    "\n",
    "Test set 2 (Hidden)\n",
    "3 ≤ N ≤ 105.\n",
    "Time limit (for the entire test set): 20 seconds.\n",
    "\n",
    "Special Note\n",
    "Notice that test set 2 for this problem has a large amount of input, so using a non-buffered reader might lead to slower input reading. In addition, keep in mind that certain languages have a small input buffer size by default.\n",
    "\n",
    "Sample\n",
    "\n",
    "Input \n",
    " \t\n",
    "Output \n",
    " \n",
    "2\n",
    "5\n",
    "5 6 8 4 3\n",
    "3\n",
    "8 9 7\n",
    "\n",
    "Case #1: OK\n",
    "Case #2: 1\n",
    "\n",
    "Sample Case #1 is similar to the first one described in the problem statement. Trouble Sort correctly sorts this list, so the answer is OK.\n",
    "\n",
    "Sample Case #2 is the second one described in the problem statement. Trouble Sort does not correctly sort this list, since it terminates with the list 7 9 8. The 9 is the first value in the list that is larger than the next value, so the index of the first sorting error is 1."
   ]
  },
  {
   "cell_type": "code",
   "execution_count": null,
   "metadata": {
    "collapsed": true
   },
   "outputs": [],
   "source": [
    "def bubble_check(n,vlist):\n",
    "    for i in range(n-1):\n",
    "            if vlist[i] > vlist[i + 1]:\n",
    "                return i\n",
    "    return \"OK\"\n",
    "\n",
    "def trouble_sort(n,vlist):\n",
    "    for i in range(n):\n",
    "        for j in range(0, n - i - 2):\n",
    "            if vlist[j] > vlist[j + 2]:\n",
    "                vlist[j], vlist[j + 2] = vlist[j + 2], vlist[j]\n",
    "    return vlist\n"
   ]
  },
  {
   "cell_type": "code",
   "execution_count": 3,
   "metadata": {},
   "outputs": [
    {
     "name": "stdout",
     "output_type": "stream",
     "text": [
      "4\n",
      "3\n",
      "3 2 1\n",
      "Case #1: OK\n",
      "5\n",
      "2 5 1 6 3\n",
      "Case #2: 1\n",
      "7\n",
      "2 9 11 4 2 8 3\n",
      "Case #3: 1\n",
      "10\n",
      "67 3 12 34 56 2 8 32 4 12\n",
      "Case #4: 0\n"
     ]
    }
   ],
   "source": [
    "testcases=int(input())\n",
    "for case in range(1,testcases+1):\n",
    "    n=int(input())\n",
    "    vlist = list(map(int, input().split()))\n",
    "    tblist=trouble_sort(n,vlist)\n",
    "    print(\"Case #{}: {}\".format(case, bubble_check(n, tblist)))"
   ]
  },
  {
   "cell_type": "code",
   "execution_count": null,
   "metadata": {
    "collapsed": true
   },
   "outputs": [],
   "source": []
  }
 ],
 "metadata": {
  "kernelspec": {
   "display_name": "Python 3",
   "language": "python",
   "name": "python3"
  },
  "language_info": {
   "codemirror_mode": {
    "name": "ipython",
    "version": 3
   },
   "file_extension": ".py",
   "mimetype": "text/x-python",
   "name": "python",
   "nbconvert_exporter": "python",
   "pygments_lexer": "ipython3",
   "version": "3.6.1"
  }
 },
 "nbformat": 4,
 "nbformat_minor": 2
}
