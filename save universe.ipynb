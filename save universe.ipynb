{
 "cells": [
  {
   "cell_type": "code",
   "execution_count": null,
   "metadata": {},
   "outputs": [],
   "source": []
  },
  {
   "cell_type": "code",
   "execution_count": null,
   "metadata": {
    "collapsed": true
   },
   "outputs": [],
   "source": [
    "def save_universe(d,p):\n",
    "    if p.count(\"S\") >d:\n",
    "        return \"IMPOSSIBLE\""
   ]
  },
  {
   "cell_type": "code",
   "execution_count": null,
   "metadata": {
    "collapsed": true
   },
   "outputs": [],
   "source": [
    "testcases=int(input())\n",
    "for cases in range(0,testcases):\n",
    "    d,p=input().split()\n",
    "    save_universe(d,p)"
   ]
  },
  {
   "cell_type": "code",
   "execution_count": null,
   "metadata": {
    "collapsed": true
   },
   "outputs": [],
   "source": [
    "\n",
    "def count_points(p):\n",
    "    c1=0\n",
    "    sum=0\n",
    "    point=1\n",
    "    for v in p:\n",
    "        if v==\"S\":\n",
    "            sum+=point\n",
    "        elif v==\"C\":\n",
    "            point*=2\n",
    "    return  sum\n",
    "\n",
    "def countChange(d,p):\n",
    "    cc=0\n",
    "    while count_points(p)>d:\n",
    "        p=p.replace(\"CS\",\"SC\",1)\n",
    "        cc+=1\n",
    "    return cc\n",
    "\n",
    "\n",
    "def save_universe(d,p):\n",
    "    if p.count(\"S\") >d:\n",
    "        return \"IMPOSSIBLE\"\n",
    "    elif count_points(p)<=d:\n",
    "        return 0\n",
    "    else:\n",
    "        return countChange(d,p)\n",
    "\n",
    "\n",
    "\n",
    "\n",
    "testcases=int(input())\n",
    "for case in range(1,testcases+1):\n",
    "    d,p=input().split()\n",
    "    print(\"Case #{}: {}\".format(case,save_universe(int(d),p)))\n",
    "\n",
    "\n",
    "\n",
    "def count_points(p):\n",
    "    c1=0\n",
    "    sum=0\n",
    "    point=1\n",
    "    for v in p:\n",
    "        if v==\"S\":\n",
    "            sum+=point\n",
    "        elif v==\"C\":\n",
    "            point*=2\n",
    "    return  sum"
   ]
  }
 ],
 "metadata": {
  "kernelspec": {
   "display_name": "Python 3",
   "language": "python",
   "name": "python3"
  },
  "language_info": {
   "codemirror_mode": {
    "name": "ipython",
    "version": 3
   },
   "file_extension": ".py",
   "mimetype": "text/x-python",
   "name": "python",
   "nbconvert_exporter": "python",
   "pygments_lexer": "ipython3",
   "version": "3.6.1"
  }
 },
 "nbformat": 4,
 "nbformat_minor": 2
}
