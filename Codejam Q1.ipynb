{
 "cells": [
  {
   "cell_type": "markdown",
   "metadata": {},
   "source": [
    "Saving The Universe Again\n",
    "Problem\n",
    "An alien robot is threatening the universe, using a beam that will destroy all algorithms knowledge. We have to stop it!\n",
    "\n",
    "Fortunately, we understand how the robot works. It starts off with a beam with a strength of 1, and it will run a program that is a series of instructions, which will be executed one at a time, in left to right order. Each instruction is of one of the following two types:\n",
    "\n",
    "C (for \"charge\"): Double the beam's strength.\n",
    "S (for \"shoot\"): Shoot the beam, doing damage equal to the beam's current strength.\n",
    "For example, if the robot's program is SCCSSC, the robot will do the following when the program runs:\n",
    "\n",
    "Shoot the beam, doing 1 damage.\n",
    "Charge the beam, doubling the beam's strength to 2.\n",
    "Charge the beam, doubling the beam's strength to 4.\n",
    "Shoot the beam, doing 4 damage.\n",
    "Shoot the beam, doing 4 damage.\n",
    "Charge the beam, increasing the beam's strength to 8.\n",
    "In that case, the program would do a total of 9 damage.\n",
    "\n",
    "The universe's top algorithmists have developed a shield that can withstand a maximum total of D damage. But the robot's current program might do more damage than that when it runs.\n",
    "\n",
    "The President of the Universe has volunteered to fly into space to hack the robot's program before the robot runs it. The only way the President can hack (without the robot noticing) is by swapping two adjacent instructions. For example, the President could hack the above program once by swapping the third and fourth instructions to make it SCSCSC. This would reduce the total damage to 7. Then, for example, the president could hack the program again to make it SCSSCC, reducing the damage to 5, and so on.\n",
    "\n",
    "To prevent the robot from getting too suspicious, the President does not want to hack too many times. What is this smallest possible number of hacks which will ensure that the program does no more than D total damage, if it is possible to do so?\n",
    "\n",
    "Input\n",
    "The first line of the input gives the number of test cases, T. T test cases follow. Each consists of one line containing an integer D and a string P: the maximum total damage our shield can withstand, and the robot's program.\n",
    "\n",
    "Output\n",
    "For each test case, output one line containing Case #x: y, where x is the test case number (starting from 1) and y is either the minimum number of hacks needed to accomplish the goal, or IMPOSSIBLE if it is not possible.\n",
    "\n",
    "Limits\n",
    "1 ≤ T ≤ 100.\n",
    "1 ≤ D ≤ 109.\n",
    "2 ≤ length of P ≤ 30.\n",
    "Every character in P is either C or S.\n",
    "Time limit: 20 seconds per test set.\n",
    "Memory limit: 1GB.\n",
    "\n",
    "Test set 1 (Visible)\n",
    "The robot's program contains either zero or one C characters.\n",
    "\n",
    "Test set 2 (Hidden)\n",
    "No additional restrictions to the Limits section.\n",
    "\n",
    "Sample\n",
    "\n",
    "Input \n",
    " \t\n",
    "Output \n",
    " \n",
    "6\n",
    "1 CS\n",
    "2 CS\n",
    "1 SS\n",
    "6 SCCSSC\n",
    "2 CC\n",
    "3 CSCSS\n",
    "\n",
    "Case #1: 1\n",
    "Case #2: 0\n",
    "Case #3: IMPOSSIBLE\n",
    "Case #4: 2\n",
    "Case #5: 0\n",
    "Case #6: 5\n",
    "\n",
    "Note that the last three sample cases would not appear in test set 1.\n",
    "\n",
    "In Sample Case #1, the President can swap the two instructions to reduce the total damage to 1, which the shield can withstand.\n",
    "\n",
    "In Sample Case #2, the President does not need to hack the program at all, since the shield can already withstand the 2 total damage it will cause.\n",
    "\n",
    "In Sample Case #3, the program will do more damage than the shield can withstand, and hacking will do nothing to change this. The universe is doomed.\n",
    "\n",
    "Sample Case #4 uses the program described in the problem statement. The statement demonstrates one way to reduce the total damage to 5 using two hacks. It is not possible to reduce the damage to 6 or less by using only one hack; remember that the President can only swap adjacent instructions.\n",
    "\n",
    "In Sample Case #5, the robot will never shoot, and so it will never do any damage. No hacking is required.\n",
    "\n",
    "In Sample Case #6, five hacks are required. Notice that even if two hacks swap the instructions at the same two positions, they still count as separate hacks."
   ]
  },
  {
   "cell_type": "code",
   "execution_count": 2,
   "metadata": {
    "collapsed": true
   },
   "outputs": [],
   "source": [
    "\n",
    "def count_points(p):\n",
    "    c1=0\n",
    "    sum=0\n",
    "    point=1\n",
    "    for v in p:\n",
    "        if v==\"S\":\n",
    "            sum+=point\n",
    "        elif v==\"C\":\n",
    "            point*=2\n",
    "    return  sum"
   ]
  },
  {
   "cell_type": "code",
   "execution_count": 3,
   "metadata": {
    "collapsed": true
   },
   "outputs": [],
   "source": [
    "\n",
    "\n",
    "def countChange(d,p):\n",
    "    cc=0\n",
    "    while count_points(p)>d:\n",
    "        p=p.replace(\"CS\",\"SC\",1)\n",
    "        cc+=1\n",
    "    return cc"
   ]
  },
  {
   "cell_type": "code",
   "execution_count": 4,
   "metadata": {
    "collapsed": true
   },
   "outputs": [],
   "source": [
    "\n",
    "\n",
    "def save_universe(d,p):\n",
    "    if p.count(\"S\") >d:\n",
    "        return \"IMPOSSIBLE\"\n",
    "    elif count_points(p)<=d:\n",
    "        return 0\n",
    "    else:\n",
    "        return countChange(d,p)"
   ]
  },
  {
   "cell_type": "code",
   "execution_count": 1,
   "metadata": {},
   "outputs": [
    {
     "name": "stdout",
     "output_type": "stream",
     "text": [
      "3\n",
      "2 CSS\n",
      "Case #1: 2\n",
      "4 CSSSSCS\n",
      "Case #2: IMPOSSIBLE\n",
      "2 SSCC\n",
      "Case #3: 0\n"
     ]
    }
   ],
   "source": [
    "\n",
    "testcases=int(input())\n",
    "for case in range(1,testcases+1):\n",
    "    d,p=input().split()\n",
    "    print(\"Case #{}: {}\".format(case,save_universe(int(d),p)))\n"
   ]
  },
  {
   "cell_type": "code",
   "execution_count": null,
   "metadata": {
    "collapsed": true
   },
   "outputs": [],
   "source": []
  }
 ],
 "metadata": {
  "kernelspec": {
   "display_name": "Python 3",
   "language": "python",
   "name": "python3"
  },
  "language_info": {
   "codemirror_mode": {
    "name": "ipython",
    "version": 3
   },
   "file_extension": ".py",
   "mimetype": "text/x-python",
   "name": "python",
   "nbconvert_exporter": "python",
   "pygments_lexer": "ipython3",
   "version": "3.6.1"
  }
 },
 "nbformat": 4,
 "nbformat_minor": 2
}
